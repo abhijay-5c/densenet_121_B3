{
 "cells": [
  {
   "cell_type": "code",
   "execution_count": null,
   "metadata": {},
   "outputs": [
    {
     "name": "stderr",
     "output_type": "stream",
     "text": [
      "Processing processed_data/train_data.pth:  37%|███▋      | 17564/47250 [12:05<20:25, 24.22it/s]\n"
     ]
    }
   ],
   "source": [
    "import os\n",
    "import torch\n",
    "from torchvision import transforms\n",
    "from PIL import Image\n",
    "from tqdm import tqdm\n",
    "from torch.utils.data import random_split\n",
    "from concurrent.futures import ThreadPoolExecutor, as_completed\n",
    "import numpy as np\n",
    "import cv2\n",
    "\n",
    "# Function to apply CLAHE\n",
    "def apply_clahe(image):\n",
    "    image = np.array(image)\n",
    "    if len(image.shape) == 3:  # Convert RGB to grayscale if necessary\n",
    "        image = cv2.cvtColor(image, cv2.COLOR_RGB2GRAY)\n",
    "    clahe = cv2.createCLAHE(clipLimit=2.0, tileGridSize=(8, 8))\n",
    "    image = clahe.apply(image)\n",
    "    return Image.fromarray(image)\n",
    "\n",
    "# Transformation pipeline\n",
    "transform = transforms.Compose([\n",
    "    transforms.Lambda(lambda img: apply_clahe(img)),  # Apply CLAHE\n",
    "    transforms.Grayscale(num_output_channels=3),      # Convert to 3-channel grayscale\n",
    "    transforms.Resize((224, 224)),                    # Resize to 224x224\n",
    "    transforms.ToTensor(),                            # Convert to tensor\n",
    "    transforms.Normalize(mean=[0.4609, 0.4609, 0.4609],\n",
    "                         std=[0.2939, 0.2939, 0.2939]),  # Normalize\n",
    "])\n",
    "\n",
    "# Helper function to process a single image\n",
    "def process_image(image_path, label):\n",
    "    try:\n",
    "        image = Image.open(image_path).convert(\"RGB\")\n",
    "        image_tensor = transform(image)\n",
    "        return image_tensor, label\n",
    "    except Exception as e:\n",
    "        print(f\"Error processing {image_path}: {e}\")\n",
    "        return None, None\n",
    "\n",
    "# Multithreaded preprocessing and saving function\n",
    "def preprocess_and_save_dataset(dataset_path, save_dir, split_ratios=(0.8, 0.1, 0.1), num_threads=24):\n",
    "    image_paths = []\n",
    "    labels = []\n",
    "\n",
    "    # Collect image paths and labels\n",
    "    for class_idx, class_folder in enumerate(os.listdir(dataset_path)):\n",
    "        class_folder_path = os.path.join(dataset_path, class_folder)\n",
    "        if os.path.isdir(class_folder_path):\n",
    "            for image_name in os.listdir(class_folder_path):\n",
    "                image_path = os.path.join(class_folder_path, image_name)\n",
    "                image_paths.append(image_path)\n",
    "                labels.append(class_idx)\n",
    "\n",
    "    # Split dataset into train, validation, and test sets\n",
    "    total_size = len(image_paths)\n",
    "    train_size = int(split_ratios[0] * total_size)\n",
    "    val_size = int(split_ratios[1] * total_size)\n",
    "    test_size = total_size - train_size - val_size\n",
    "\n",
    "    dataset = list(zip(image_paths, labels))\n",
    "    train_data, val_data, test_data = random_split(dataset, [train_size, val_size, test_size])\n",
    "\n",
    "    def process_and_save(data, filename):\n",
    "        tensors = {\"images\": [], \"labels\": []}\n",
    "        \n",
    "        # Use multithreading to process images\n",
    "        with ThreadPoolExecutor(max_workers=num_threads) as executor:\n",
    "            futures = [executor.submit(process_image, image_path, label) for image_path, label in data]\n",
    "            \n",
    "            for future in tqdm(as_completed(futures), total=len(futures), desc=f\"Processing {filename}\"):\n",
    "                image_tensor, label = future.result()\n",
    "                if image_tensor is not None:\n",
    "                    tensors[\"images\"].append(image_tensor)\n",
    "                    tensors[\"labels\"].append(label)\n",
    "\n",
    "        # Stack tensors and save\n",
    "        tensors[\"images\"] = torch.stack(tensors[\"images\"])\n",
    "        tensors[\"labels\"] = torch.tensor(tensors[\"labels\"])\n",
    "        torch.save(tensors, filename)\n",
    "        print(f\"Saved {filename} with {len(data)} samples.\")\n",
    "\n",
    "    # Create save directory\n",
    "    os.makedirs(save_dir, exist_ok=True)\n",
    "\n",
    "    # Save train, validation, and test datasets\n",
    "    process_and_save(train_data, os.path.join(save_dir, \"train_data.pth\"))\n",
    "    process_and_save(val_data, os.path.join(save_dir, \"val_data.pth\"))\n",
    "    process_and_save(test_data, os.path.join(save_dir, \"test_data.pth\"))\n",
    "\n",
    "# Path to dataset\n",
    "dataset_path = \"//home/ai-user/Abhijay/Class_dataset\"\n",
    "save_dir = \"processed_data\"\n",
    "\n",
    "# Preprocess and save dataset\n",
    "preprocess_and_save_dataset(dataset_path, save_dir)\n"
   ]
  },
  {
   "cell_type": "code",
   "execution_count": 8,
   "metadata": {},
   "outputs": [],
   "source": [
    "import os\n",
    "import torch\n",
    "from torchvision import transforms\n",
    "from PIL import Image\n",
    "from tqdm import tqdm\n",
    "from torch.utils.data import random_split\n",
    "from concurrent.futures import ThreadPoolExecutor, as_completed\n",
    "import numpy as np\n",
    "import cv2\n",
    "from torch.utils.data import DataLoader\n",
    "import torch # type: ignore\n",
    "from torch.utils.data import DataLoader # type: ignore\n",
    "import os\n",
    "import cv2 # type: ignore\n",
    "import numpy as np # type: ignore\n",
    "from PIL import Image # type: ignore\n",
    "from torchvision import models, transforms # type: ignore\n",
    "from torch.utils.data import DataLoader, Dataset, random_split # type: ignore\n",
    "from tqdm import tqdm # type: ignore\n",
    "import torch.optim as optim # type: ignore\n",
    "import torch.nn as nn # type: ignore\n",
    "from sklearn.metrics import accuracy_score, precision_score, recall_score, f1_score, confusion_matrix, classification_report # type: ignore\n",
    "\n",
    "\n"
   ]
  },
  {
   "cell_type": "code",
   "execution_count": 6,
   "metadata": {},
   "outputs": [
    {
     "name": "stderr",
     "output_type": "stream",
     "text": [
      "/tmp/ipykernel_6811/2956610174.py:5: FutureWarning: You are using `torch.load` with `weights_only=False` (the current default value), which uses the default pickle module implicitly. It is possible to construct malicious pickle data which will execute arbitrary code during unpickling (See https://github.com/pytorch/pytorch/blob/main/SECURITY.md#untrusted-models for more details). In a future release, the default value for `weights_only` will be flipped to `True`. This limits the functions that could be executed during unpickling. Arbitrary objects will no longer be allowed to be loaded via this mode unless they are explicitly allowlisted by the user via `torch.serialization.add_safe_globals`. We recommend you start setting `weights_only=True` for any use case where you don't have full control of the loaded file. Please open an issue on GitHub for any issues related to this experimental feature.\n",
      "  train_data = torch.load(os.path.join(save_dir, \"train_data.pth\"))\n"
     ]
    },
    {
     "name": "stderr",
     "output_type": "stream",
     "text": [
      "/tmp/ipykernel_6811/2956610174.py:6: FutureWarning: You are using `torch.load` with `weights_only=False` (the current default value), which uses the default pickle module implicitly. It is possible to construct malicious pickle data which will execute arbitrary code during unpickling (See https://github.com/pytorch/pytorch/blob/main/SECURITY.md#untrusted-models for more details). In a future release, the default value for `weights_only` will be flipped to `True`. This limits the functions that could be executed during unpickling. Arbitrary objects will no longer be allowed to be loaded via this mode unless they are explicitly allowlisted by the user via `torch.serialization.add_safe_globals`. We recommend you start setting `weights_only=True` for any use case where you don't have full control of the loaded file. Please open an issue on GitHub for any issues related to this experimental feature.\n",
      "  val_data = torch.load(os.path.join(save_dir, \"val_data.pth\"))\n",
      "/tmp/ipykernel_6811/2956610174.py:7: FutureWarning: You are using `torch.load` with `weights_only=False` (the current default value), which uses the default pickle module implicitly. It is possible to construct malicious pickle data which will execute arbitrary code during unpickling (See https://github.com/pytorch/pytorch/blob/main/SECURITY.md#untrusted-models for more details). In a future release, the default value for `weights_only` will be flipped to `True`. This limits the functions that could be executed during unpickling. Arbitrary objects will no longer be allowed to be loaded via this mode unless they are explicitly allowlisted by the user via `torch.serialization.add_safe_globals`. We recommend you start setting `weights_only=True` for any use case where you don't have full control of the loaded file. Please open an issue on GitHub for any issues related to this experimental feature.\n",
      "  test_data = torch.load(os.path.join(save_dir, \"test_data.pth\"))\n",
      "/home/ai-user/Abhijay/abhijay/lib/python3.12/site-packages/torch/utils/data/dataloader.py:617: UserWarning: This DataLoader will create 24 worker processes in total. Our suggested max number of worker in current system is 12, which is smaller than what this DataLoader is going to create. Please be aware that excessive worker creation might get DataLoader running slow or even freeze, lower the worker number to avoid potential slowness/freeze if necessary.\n",
      "  warnings.warn(\n"
     ]
    }
   ],
   "source": [
    "save_dir = \"processed_data\"\n",
    "\n",
    "# Load processed datasets\n",
    "def load_processed_dataset(save_dir):\n",
    "    train_data = torch.load(os.path.join(save_dir, \"train_data.pth\"))\n",
    "    val_data = torch.load(os.path.join(save_dir, \"val_data.pth\"))\n",
    "    test_data = torch.load(os.path.join(save_dir, \"test_data.pth\"))\n",
    "    return train_data, val_data, test_data\n",
    "\n",
    "# Load the datasets\n",
    "train_data, val_data, test_data = load_processed_dataset(save_dir)\n",
    "\n",
    "# Create DataLoaders\n",
    "class TensorDataset(torch.utils.data.Dataset):\n",
    "    def __init__(self, images, labels):\n",
    "        self.images = images\n",
    "        self.labels = labels\n",
    "\n",
    "    def __len__(self):\n",
    "        return len(self.labels)\n",
    "\n",
    "    def __getitem__(self, idx):\n",
    "        return self.images[idx], self.labels[idx]\n",
    "\n",
    "train_dataset = TensorDataset(train_data[\"images\"], train_data[\"labels\"])\n",
    "val_dataset = TensorDataset(val_data[\"images\"], val_data[\"labels\"])\n",
    "test_dataset = TensorDataset(test_data[\"images\"], test_data[\"labels\"])\n",
    "\n",
    "batch_size = 32\n",
    "train_dataloader = DataLoader(train_dataset, batch_size=batch_size, shuffle=True,num_workers=24,prefetch_factor=2)\n",
    "val_dataloader = DataLoader(val_dataset, batch_size=batch_size, shuffle=False,num_workers=24,prefetch_factor=2)\n",
    "test_dataloader = DataLoader(test_dataset, batch_size=batch_size, shuffle=False,num_workers=24,prefetch_factor=2)\n"
   ]
  },
  {
   "cell_type": "code",
   "execution_count": 9,
   "metadata": {},
   "outputs": [
    {
     "name": "stderr",
     "output_type": "stream",
     "text": [
      "/home/ai-user/Abhijay/abhijay/lib/python3.12/site-packages/torchvision/models/_utils.py:208: UserWarning: The parameter 'pretrained' is deprecated since 0.13 and may be removed in the future, please use 'weights' instead.\n",
      "  warnings.warn(\n",
      "/home/ai-user/Abhijay/abhijay/lib/python3.12/site-packages/torchvision/models/_utils.py:223: UserWarning: Arguments other than a weight enum or `None` for 'weights' are deprecated since 0.13 and may be removed in the future. The current behavior is equivalent to passing `weights=DenseNet121_Weights.IMAGENET1K_V1`. You can also use `weights=DenseNet121_Weights.DEFAULT` to get the most up-to-date weights.\n",
      "  warnings.warn(msg)\n"
     ]
    },
    {
     "name": "stderr",
     "output_type": "stream",
     "text": [
      "/home/ai-user/Abhijay/abhijay/lib/python3.12/site-packages/torchvision/models/_utils.py:223: UserWarning: Arguments other than a weight enum or `None` for 'weights' are deprecated since 0.13 and may be removed in the future. The current behavior is equivalent to passing `weights=EfficientNet_B3_Weights.IMAGENET1K_V1`. You can also use `weights=EfficientNet_B3_Weights.DEFAULT` to get the most up-to-date weights.\n",
      "  warnings.warn(msg)\n",
      "Downloading: \"https://download.pytorch.org/models/efficientnet_b3_rwightman-b3899882.pth\" to /home/ai-user/.cache/torch/hub/checkpoints/efficientnet_b3_rwightman-b3899882.pth\n",
      "100%|██████████| 47.2M/47.2M [00:10<00:00, 4.83MB/s]\n"
     ]
    }
   ],
   "source": [
    "# Define a combined model that uses DenseNet121 and EfficientNet B3 (from torchvision)\n",
    "class CombinedModel(nn.Module):\n",
    "    def __init__(self, num_classes=1):\n",
    "        super(CombinedModel, self).__init__()\n",
    "\n",
    "        # Load DenseNet121 model\n",
    "        self.densenet = models.densenet121(pretrained=True)\n",
    "        self.densenet_features = self.densenet.features  # Get DenseNet feature extractor\n",
    "        self.densenet_fc_in_features = self.densenet.classifier.in_features  # Get input features for DenseNet classifier\n",
    "        self.densenet.classifier = nn.Identity()  # Remove DenseNet classifier\n",
    "        \n",
    "        # Load EfficientNet B3 model from torchvision\n",
    "        self.efficientnet = models.efficientnet_b3(pretrained=True)  # EfficientNet B3 from torchvision\n",
    "        self.efficientnet_fc_in_features = self.efficientnet.classifier[1].in_features  # Get input features for EfficientNet classifier\n",
    "        self.efficientnet.classifier = nn.Identity()  # Remove EfficientNet classifier\n",
    "\n",
    "        # Combined feature map size after concatenation\n",
    "        self.fc_in_features = self.densenet_fc_in_features + self.efficientnet_fc_in_features\n",
    "        \n",
    "        # Final classifier (After feature concatenation)\n",
    "        self.fc = nn.Sequential(\n",
    "            nn.Linear(self.fc_in_features, 512),  # Concatenate features and pass to fully connected layer\n",
    "            nn.ReLU(),\n",
    "            nn.Dropout(0.5),\n",
    "            nn.Linear(512, num_classes),\n",
    "            nn.Sigmoid()  # Sigmoid for binary classification\n",
    "        )\n",
    "\n",
    "    def forward(self, x):\n",
    "        # Extract features from both models\n",
    "        densenet_features = self.densenet(x)\n",
    "        efficientnet_features = self.efficientnet(x)\n",
    "\n",
    "        # Concatenate the features from both models\n",
    "        combined_features = torch.cat((densenet_features, efficientnet_features), dim=1)  # Concatenate along the feature dimension\n",
    "\n",
    "        # Pass the concatenated features through the final classifier\n",
    "        out = self.fc(combined_features)\n",
    "        return out\n",
    "\n",
    "# Instantiate the model\n",
    "model = CombinedModel(num_classes=1)\n",
    "\n",
    "# Move model to GPU if available\n",
    "device = torch.device(\"cuda\" if torch.cuda.is_available() else \"cpu\")\n",
    "model = model.to(device)\n",
    "\n",
    "# Loss function: Binary Cross-Entropy\n",
    "criterion = nn.BCELoss()\n",
    "\n",
    "# Optimizer: Adam\n",
    "optimizer = optim.Adam(model.parameters(), lr=1e-4)\n",
    "\n",
    "\n"
   ]
  },
  {
   "cell_type": "code",
   "execution_count": 11,
   "metadata": {},
   "outputs": [
    {
     "name": "stderr",
     "output_type": "stream",
     "text": [
      "Epoch 1/10: 100%|██████████| 1477/1477 [03:55<00:00,  6.28it/s]"
     ]
    },
    {
     "name": "stdout",
     "output_type": "stream",
     "text": [
      "Epoch 1/10, Loss: 0.0522\n"
     ]
    },
    {
     "name": "stderr",
     "output_type": "stream",
     "text": [
      "\n"
     ]
    },
    {
     "name": "stdout",
     "output_type": "stream",
     "text": [
      "Validation Accuracy: 98.41%\n",
      "Precision: 0.9909\n",
      "Recall: 0.9854\n",
      "F1 Score: 0.9881\n",
      "Confusion Matrix:\n",
      "[[1904   36]\n",
      " [  58 3908]]\n",
      "Classification Report:\n",
      "              precision    recall  f1-score   support\n",
      "\n",
      "         0.0       0.97      0.98      0.98      1940\n",
      "         1.0       0.99      0.99      0.99      3966\n",
      "\n",
      "    accuracy                           0.98      5906\n",
      "   macro avg       0.98      0.98      0.98      5906\n",
      "weighted avg       0.98      0.98      0.98      5906\n",
      "\n"
     ]
    },
    {
     "name": "stderr",
     "output_type": "stream",
     "text": [
      "Epoch 2/10:   0%|          | 0/1477 [00:00<?, ?it/s]/home/ai-user/Abhijay/abhijay/lib/python3.12/site-packages/torch/utils/data/dataloader.py:617: UserWarning: This DataLoader will create 24 worker processes in total. Our suggested max number of worker in current system is 12, which is smaller than what this DataLoader is going to create. Please be aware that excessive worker creation might get DataLoader running slow or even freeze, lower the worker number to avoid potential slowness/freeze if necessary.\n",
      "  warnings.warn(\n",
      "Epoch 2/10: 100%|██████████| 1477/1477 [03:55<00:00,  6.27it/s]"
     ]
    },
    {
     "name": "stdout",
     "output_type": "stream",
     "text": [
      "Epoch 2/10, Loss: 0.0392\n"
     ]
    },
    {
     "name": "stderr",
     "output_type": "stream",
     "text": [
      "\n"
     ]
    },
    {
     "name": "stdout",
     "output_type": "stream",
     "text": [
      "Validation Accuracy: 98.46%\n",
      "Precision: 0.9874\n",
      "Recall: 0.9897\n",
      "F1 Score: 0.9885\n",
      "Confusion Matrix:\n",
      "[[1890   50]\n",
      " [  41 3925]]\n",
      "Classification Report:\n",
      "              precision    recall  f1-score   support\n",
      "\n",
      "         0.0       0.98      0.97      0.98      1940\n",
      "         1.0       0.99      0.99      0.99      3966\n",
      "\n",
      "    accuracy                           0.98      5906\n",
      "   macro avg       0.98      0.98      0.98      5906\n",
      "weighted avg       0.98      0.98      0.98      5906\n",
      "\n"
     ]
    },
    {
     "name": "stderr",
     "output_type": "stream",
     "text": [
      "Epoch 3/10:   0%|          | 0/1477 [00:00<?, ?it/s]/home/ai-user/Abhijay/abhijay/lib/python3.12/site-packages/torch/utils/data/dataloader.py:617: UserWarning: This DataLoader will create 24 worker processes in total. Our suggested max number of worker in current system is 12, which is smaller than what this DataLoader is going to create. Please be aware that excessive worker creation might get DataLoader running slow or even freeze, lower the worker number to avoid potential slowness/freeze if necessary.\n",
      "  warnings.warn(\n",
      "Epoch 3/10: 100%|██████████| 1477/1477 [03:56<00:00,  6.25it/s]"
     ]
    },
    {
     "name": "stdout",
     "output_type": "stream",
     "text": [
      "Epoch 3/10, Loss: 0.0244\n"
     ]
    },
    {
     "name": "stderr",
     "output_type": "stream",
     "text": [
      "\n"
     ]
    },
    {
     "name": "stdout",
     "output_type": "stream",
     "text": [
      "Validation Accuracy: 98.36%\n",
      "Precision: 0.9896\n",
      "Recall: 0.9859\n",
      "F1 Score: 0.9877\n",
      "Confusion Matrix:\n",
      "[[1899   41]\n",
      " [  56 3910]]\n",
      "Classification Report:\n",
      "              precision    recall  f1-score   support\n",
      "\n",
      "         0.0       0.97      0.98      0.98      1940\n",
      "         1.0       0.99      0.99      0.99      3966\n",
      "\n",
      "    accuracy                           0.98      5906\n",
      "   macro avg       0.98      0.98      0.98      5906\n",
      "weighted avg       0.98      0.98      0.98      5906\n",
      "\n"
     ]
    },
    {
     "name": "stderr",
     "output_type": "stream",
     "text": [
      "Epoch 4/10:   0%|          | 0/1477 [00:00<?, ?it/s]/home/ai-user/Abhijay/abhijay/lib/python3.12/site-packages/torch/utils/data/dataloader.py:617: UserWarning: This DataLoader will create 24 worker processes in total. Our suggested max number of worker in current system is 12, which is smaller than what this DataLoader is going to create. Please be aware that excessive worker creation might get DataLoader running slow or even freeze, lower the worker number to avoid potential slowness/freeze if necessary.\n",
      "  warnings.warn(\n",
      "Epoch 4/10: 100%|██████████| 1477/1477 [03:55<00:00,  6.27it/s]"
     ]
    },
    {
     "name": "stdout",
     "output_type": "stream",
     "text": [
      "Epoch 4/10, Loss: 0.0186\n"
     ]
    },
    {
     "name": "stderr",
     "output_type": "stream",
     "text": [
      "\n"
     ]
    },
    {
     "name": "stdout",
     "output_type": "stream",
     "text": [
      "Validation Accuracy: 98.34%\n",
      "Precision: 0.9884\n",
      "Recall: 0.9869\n",
      "F1 Score: 0.9876\n",
      "Confusion Matrix:\n",
      "[[1894   46]\n",
      " [  52 3914]]\n",
      "Classification Report:\n",
      "              precision    recall  f1-score   support\n",
      "\n",
      "         0.0       0.97      0.98      0.97      1940\n",
      "         1.0       0.99      0.99      0.99      3966\n",
      "\n",
      "    accuracy                           0.98      5906\n",
      "   macro avg       0.98      0.98      0.98      5906\n",
      "weighted avg       0.98      0.98      0.98      5906\n",
      "\n"
     ]
    },
    {
     "name": "stderr",
     "output_type": "stream",
     "text": [
      "Epoch 5/10:   0%|          | 0/1477 [00:00<?, ?it/s]/home/ai-user/Abhijay/abhijay/lib/python3.12/site-packages/torch/utils/data/dataloader.py:617: UserWarning: This DataLoader will create 24 worker processes in total. Our suggested max number of worker in current system is 12, which is smaller than what this DataLoader is going to create. Please be aware that excessive worker creation might get DataLoader running slow or even freeze, lower the worker number to avoid potential slowness/freeze if necessary.\n",
      "  warnings.warn(\n",
      "Epoch 5/10: 100%|██████████| 1477/1477 [03:55<00:00,  6.27it/s]"
     ]
    },
    {
     "name": "stdout",
     "output_type": "stream",
     "text": [
      "Epoch 5/10, Loss: 0.0149\n"
     ]
    },
    {
     "name": "stderr",
     "output_type": "stream",
     "text": [
      "\n"
     ]
    },
    {
     "name": "stdout",
     "output_type": "stream",
     "text": [
      "Validation Accuracy: 97.76%\n",
      "Precision: 0.9900\n",
      "Recall: 0.9766\n",
      "F1 Score: 0.9832\n",
      "Confusion Matrix:\n",
      "[[1901   39]\n",
      " [  93 3873]]\n",
      "Classification Report:\n",
      "              precision    recall  f1-score   support\n",
      "\n",
      "         0.0       0.95      0.98      0.97      1940\n",
      "         1.0       0.99      0.98      0.98      3966\n",
      "\n",
      "    accuracy                           0.98      5906\n",
      "   macro avg       0.97      0.98      0.97      5906\n",
      "weighted avg       0.98      0.98      0.98      5906\n",
      "\n"
     ]
    },
    {
     "name": "stderr",
     "output_type": "stream",
     "text": [
      "Epoch 6/10:   0%|          | 0/1477 [00:00<?, ?it/s]/home/ai-user/Abhijay/abhijay/lib/python3.12/site-packages/torch/utils/data/dataloader.py:617: UserWarning: This DataLoader will create 24 worker processes in total. Our suggested max number of worker in current system is 12, which is smaller than what this DataLoader is going to create. Please be aware that excessive worker creation might get DataLoader running slow or even freeze, lower the worker number to avoid potential slowness/freeze if necessary.\n",
      "  warnings.warn(\n",
      "Epoch 6/10: 100%|██████████| 1477/1477 [03:55<00:00,  6.27it/s]"
     ]
    },
    {
     "name": "stdout",
     "output_type": "stream",
     "text": [
      "Epoch 6/10, Loss: 0.0114\n"
     ]
    },
    {
     "name": "stderr",
     "output_type": "stream",
     "text": [
      "\n"
     ]
    },
    {
     "name": "stdout",
     "output_type": "stream",
     "text": [
      "Validation Accuracy: 98.09%\n",
      "Precision: 0.9883\n",
      "Recall: 0.9831\n",
      "F1 Score: 0.9857\n",
      "Confusion Matrix:\n",
      "[[1894   46]\n",
      " [  67 3899]]\n",
      "Classification Report:\n",
      "              precision    recall  f1-score   support\n",
      "\n",
      "         0.0       0.97      0.98      0.97      1940\n",
      "         1.0       0.99      0.98      0.99      3966\n",
      "\n",
      "    accuracy                           0.98      5906\n",
      "   macro avg       0.98      0.98      0.98      5906\n",
      "weighted avg       0.98      0.98      0.98      5906\n",
      "\n"
     ]
    },
    {
     "name": "stderr",
     "output_type": "stream",
     "text": [
      "Epoch 7/10:   0%|          | 0/1477 [00:00<?, ?it/s]/home/ai-user/Abhijay/abhijay/lib/python3.12/site-packages/torch/utils/data/dataloader.py:617: UserWarning: This DataLoader will create 24 worker processes in total. Our suggested max number of worker in current system is 12, which is smaller than what this DataLoader is going to create. Please be aware that excessive worker creation might get DataLoader running slow or even freeze, lower the worker number to avoid potential slowness/freeze if necessary.\n",
      "  warnings.warn(\n",
      "Epoch 7/10: 100%|██████████| 1477/1477 [03:55<00:00,  6.27it/s]"
     ]
    },
    {
     "name": "stdout",
     "output_type": "stream",
     "text": [
      "Epoch 7/10, Loss: 0.0104\n"
     ]
    },
    {
     "name": "stderr",
     "output_type": "stream",
     "text": [
      "\n"
     ]
    },
    {
     "name": "stdout",
     "output_type": "stream",
     "text": [
      "Validation Accuracy: 98.58%\n",
      "Precision: 0.9884\n",
      "Recall: 0.9904\n",
      "F1 Score: 0.9894\n",
      "Confusion Matrix:\n",
      "[[1894   46]\n",
      " [  38 3928]]\n",
      "Classification Report:\n",
      "              precision    recall  f1-score   support\n",
      "\n",
      "         0.0       0.98      0.98      0.98      1940\n",
      "         1.0       0.99      0.99      0.99      3966\n",
      "\n",
      "    accuracy                           0.99      5906\n",
      "   macro avg       0.98      0.98      0.98      5906\n",
      "weighted avg       0.99      0.99      0.99      5906\n",
      "\n"
     ]
    },
    {
     "name": "stderr",
     "output_type": "stream",
     "text": [
      "Epoch 8/10:   0%|          | 0/1477 [00:00<?, ?it/s]/home/ai-user/Abhijay/abhijay/lib/python3.12/site-packages/torch/utils/data/dataloader.py:617: UserWarning: This DataLoader will create 24 worker processes in total. Our suggested max number of worker in current system is 12, which is smaller than what this DataLoader is going to create. Please be aware that excessive worker creation might get DataLoader running slow or even freeze, lower the worker number to avoid potential slowness/freeze if necessary.\n",
      "  warnings.warn(\n",
      "Epoch 8/10: 100%|██████████| 1477/1477 [03:55<00:00,  6.27it/s]"
     ]
    },
    {
     "name": "stdout",
     "output_type": "stream",
     "text": [
      "Epoch 8/10, Loss: 0.0093\n"
     ]
    },
    {
     "name": "stderr",
     "output_type": "stream",
     "text": [
      "\n"
     ]
    },
    {
     "name": "stdout",
     "output_type": "stream",
     "text": [
      "Validation Accuracy: 98.31%\n",
      "Precision: 0.9852\n",
      "Recall: 0.9897\n",
      "F1 Score: 0.9874\n",
      "Confusion Matrix:\n",
      "[[1881   59]\n",
      " [  41 3925]]\n",
      "Classification Report:\n",
      "              precision    recall  f1-score   support\n",
      "\n",
      "         0.0       0.98      0.97      0.97      1940\n",
      "         1.0       0.99      0.99      0.99      3966\n",
      "\n",
      "    accuracy                           0.98      5906\n",
      "   macro avg       0.98      0.98      0.98      5906\n",
      "weighted avg       0.98      0.98      0.98      5906\n",
      "\n"
     ]
    },
    {
     "name": "stderr",
     "output_type": "stream",
     "text": [
      "Epoch 9/10:   0%|          | 0/1477 [00:00<?, ?it/s]/home/ai-user/Abhijay/abhijay/lib/python3.12/site-packages/torch/utils/data/dataloader.py:617: UserWarning: This DataLoader will create 24 worker processes in total. Our suggested max number of worker in current system is 12, which is smaller than what this DataLoader is going to create. Please be aware that excessive worker creation might get DataLoader running slow or even freeze, lower the worker number to avoid potential slowness/freeze if necessary.\n",
      "  warnings.warn(\n",
      "Epoch 9/10: 100%|██████████| 1477/1477 [03:55<00:00,  6.27it/s]"
     ]
    },
    {
     "name": "stdout",
     "output_type": "stream",
     "text": [
      "Epoch 9/10, Loss: 0.0088\n"
     ]
    },
    {
     "name": "stderr",
     "output_type": "stream",
     "text": [
      "\n"
     ]
    },
    {
     "name": "stdout",
     "output_type": "stream",
     "text": [
      "Validation Accuracy: 98.34%\n",
      "Precision: 0.9876\n",
      "Recall: 0.9876\n",
      "F1 Score: 0.9876\n",
      "Confusion Matrix:\n",
      "[[1891   49]\n",
      " [  49 3917]]\n",
      "Classification Report:\n",
      "              precision    recall  f1-score   support\n",
      "\n",
      "         0.0       0.97      0.97      0.97      1940\n",
      "         1.0       0.99      0.99      0.99      3966\n",
      "\n",
      "    accuracy                           0.98      5906\n",
      "   macro avg       0.98      0.98      0.98      5906\n",
      "weighted avg       0.98      0.98      0.98      5906\n",
      "\n"
     ]
    },
    {
     "name": "stderr",
     "output_type": "stream",
     "text": [
      "Epoch 10/10:   0%|          | 0/1477 [00:00<?, ?it/s]/home/ai-user/Abhijay/abhijay/lib/python3.12/site-packages/torch/utils/data/dataloader.py:617: UserWarning: This DataLoader will create 24 worker processes in total. Our suggested max number of worker in current system is 12, which is smaller than what this DataLoader is going to create. Please be aware that excessive worker creation might get DataLoader running slow or even freeze, lower the worker number to avoid potential slowness/freeze if necessary.\n",
      "  warnings.warn(\n",
      "Epoch 10/10: 100%|██████████| 1477/1477 [03:52<00:00,  6.37it/s]"
     ]
    },
    {
     "name": "stdout",
     "output_type": "stream",
     "text": [
      "Epoch 10/10, Loss: 0.0066\n"
     ]
    },
    {
     "name": "stderr",
     "output_type": "stream",
     "text": [
      "\n"
     ]
    },
    {
     "name": "stdout",
     "output_type": "stream",
     "text": [
      "Validation Accuracy: 98.39%\n",
      "Precision: 0.9872\n",
      "Recall: 0.9889\n",
      "F1 Score: 0.9880\n",
      "Confusion Matrix:\n",
      "[[1889   51]\n",
      " [  44 3922]]\n",
      "Classification Report:\n",
      "              precision    recall  f1-score   support\n",
      "\n",
      "         0.0       0.98      0.97      0.98      1940\n",
      "         1.0       0.99      0.99      0.99      3966\n",
      "\n",
      "    accuracy                           0.98      5906\n",
      "   macro avg       0.98      0.98      0.98      5906\n",
      "weighted avg       0.98      0.98      0.98      5906\n",
      "\n",
      "Combined model saved as 'combined_model_new.pth'\n"
     ]
    }
   ],
   "source": [
    "# Training loop\n",
    "num_epochs = 10  # Adjust the number of epochs as needed\n",
    "for epoch in range(num_epochs):\n",
    "    model.train()\n",
    "    running_loss = 0.0\n",
    "    \n",
    "    # Training step\n",
    "    for images, labels in tqdm(train_dataloader, desc=f\"Epoch {epoch+1}/{num_epochs}\"):\n",
    "        images, labels = images.to(device), labels.to(device, dtype=torch.float32)\n",
    "        \n",
    "        # Forward pass\n",
    "        optimizer.zero_grad()\n",
    "        outputs = model(images)\n",
    "        \n",
    "        # Compute the loss\n",
    "        loss = criterion(outputs.squeeze(), labels)\n",
    "        \n",
    "        # Backward pass and optimization\n",
    "        loss.backward()\n",
    "        optimizer.step()\n",
    "        \n",
    "        # Accumulate the loss\n",
    "        running_loss += loss.item()\n",
    "    \n",
    "    # Print the loss for the current epoch\n",
    "    print(f\"Epoch {epoch+1}/{num_epochs}, Loss: {running_loss / len(train_dataloader):.4f}\")\n",
    "    \n",
    "    # Validation step after each epoch\n",
    "    model.eval()\n",
    "    correct_preds = 0\n",
    "    total = 0\n",
    "    all_preds = []\n",
    "    all_labels = []\n",
    "    with torch.no_grad():\n",
    "        for images, labels in val_dataloader:\n",
    "            images, labels = images.to(device), labels.to(device, dtype=torch.float32)\n",
    "            outputs = model(images)\n",
    "            preds = (outputs.squeeze() > 0.5).float()\n",
    "            correct_preds += (preds == labels).sum().item()\n",
    "            total += labels.size(0)\n",
    "            all_preds.extend(preds.cpu().numpy())\n",
    "            all_labels.extend(labels.cpu().numpy())\n",
    "    \n",
    "    accuracy = correct_preds / total\n",
    "    print(f\"Validation Accuracy: {accuracy * 100:.2f}%\")\n",
    "\n",
    "    # Calculate and print metrics\n",
    "    precision = precision_score(all_labels, all_preds)\n",
    "    recall = recall_score(all_labels, all_preds)\n",
    "    f1 = f1_score(all_labels, all_preds)\n",
    "    cm = confusion_matrix(all_labels, all_preds)\n",
    "    report = classification_report(all_labels, all_preds)\n",
    "\n",
    "    print(f\"Precision: {precision:.4f}\")\n",
    "    print(f\"Recall: {recall:.4f}\")\n",
    "    print(f\"F1 Score: {f1:.4f}\")\n",
    "    print(f\"Confusion Matrix:\\n{cm}\")\n",
    "    print(f\"Classification Report:\\n{report}\")\n",
    "\n",
    "# Save the combined model\n",
    "torch.save(model.state_dict(), \"combined_model_new.pth\")\n",
    "print(\"Combined model saved as 'combined_model_new.pth'\")\n",
    "\n"
   ]
  },
  {
   "cell_type": "code",
   "execution_count": 12,
   "metadata": {},
   "outputs": [
    {
     "name": "stderr",
     "output_type": "stream",
     "text": [
      "/home/ai-user/Abhijay/abhijay/lib/python3.12/site-packages/torchvision/models/_utils.py:208: UserWarning: The parameter 'pretrained' is deprecated since 0.13 and may be removed in the future, please use 'weights' instead.\n",
      "  warnings.warn(\n",
      "/home/ai-user/Abhijay/abhijay/lib/python3.12/site-packages/torchvision/models/_utils.py:223: UserWarning: Arguments other than a weight enum or `None` for 'weights' are deprecated since 0.13 and may be removed in the future. The current behavior is equivalent to passing `weights=DenseNet121_Weights.IMAGENET1K_V1`. You can also use `weights=DenseNet121_Weights.DEFAULT` to get the most up-to-date weights.\n",
      "  warnings.warn(msg)\n",
      "/home/ai-user/Abhijay/abhijay/lib/python3.12/site-packages/torchvision/models/_utils.py:223: UserWarning: Arguments other than a weight enum or `None` for 'weights' are deprecated since 0.13 and may be removed in the future. The current behavior is equivalent to passing `weights=EfficientNet_B3_Weights.IMAGENET1K_V1`. You can also use `weights=EfficientNet_B3_Weights.DEFAULT` to get the most up-to-date weights.\n",
      "  warnings.warn(msg)\n",
      "/tmp/ipykernel_6811/4257672594.py:2: FutureWarning: You are using `torch.load` with `weights_only=False` (the current default value), which uses the default pickle module implicitly. It is possible to construct malicious pickle data which will execute arbitrary code during unpickling (See https://github.com/pytorch/pytorch/blob/main/SECURITY.md#untrusted-models for more details). In a future release, the default value for `weights_only` will be flipped to `True`. This limits the functions that could be executed during unpickling. Arbitrary objects will no longer be allowed to be loaded via this mode unless they are explicitly allowlisted by the user via `torch.serialization.add_safe_globals`. We recommend you start setting `weights_only=True` for any use case where you don't have full control of the loaded file. Please open an issue on GitHub for any issues related to this experimental feature.\n",
      "  model.load_state_dict(torch.load(\"combined_model_new.pth\"))\n"
     ]
    },
    {
     "name": "stdout",
     "output_type": "stream",
     "text": [
      "Combined model loaded successfully.\n"
     ]
    }
   ],
   "source": [
    "model = CombinedModel(num_classes=1)\n",
    "model.load_state_dict(torch.load(\"combined_model_new.pth\"))\n",
    "model = model.to(device)\n",
    "print(\"Combined model loaded successfully.\")"
   ]
  },
  {
   "cell_type": "code",
   "execution_count": 14,
   "metadata": {},
   "outputs": [],
   "source": [
    "# Transformation pipeline\n",
    "transform = transforms.Compose([\n",
    "    transforms.Lambda(lambda img: apply_clahe(img)),  # Apply CLAHE\n",
    "    transforms.Grayscale(num_output_channels=3),      # Convert to 3-channel grayscale\n",
    "    transforms.Resize((224, 224)),                    # Resize to 224x224\n",
    "    transforms.ToTensor(),                            # Convert to tensor\n",
    "    transforms.Normalize(mean=[0.4609, 0.4609, 0.4609], \n",
    "                         std=[0.2939, 0.2939, 0.2939]),  # Normalize\n",
    "])"
   ]
  },
  {
   "cell_type": "code",
   "execution_count": 16,
   "metadata": {},
   "outputs": [],
   "source": [
    "# Function to apply CLAHE (Contrast Limited Adaptive Histogram Equalization)\n",
    "def apply_clahe(image):\n",
    "    image = np.array(image)\n",
    "    if len(image.shape) == 3:  # Convert RGB to grayscale if necessary\n",
    "        image = cv2.cvtColor(image, cv2.COLOR_RGB2GRAY)\n",
    "    clahe = cv2.createCLAHE(clipLimit=2.0, tileGridSize=(8, 8))\n",
    "    image = clahe.apply(image)\n",
    "    return Image.fromarray(image)\n",
    "\n"
   ]
  },
  {
   "cell_type": "code",
   "execution_count": 17,
   "metadata": {},
   "outputs": [
    {
     "data": {
      "image/png": "[encoded data removed]",
      "text/plain": [
       "<Figure size 640x480 with 1 Axes>"
      ]
     },
     "metadata": {},
     "output_type": "display_data"
    },
    {
     "name": "stdout",
     "output_type": "stream",
     "text": [
      "Predicted class for the image: Paediatric\n"
     ]
    }
   ],
   "source": [
    "import matplotlib.pyplot as plt\n",
    "from PIL import Image\n",
    "# Function to predict class for a new image\n",
    "def predict_image(image_path):\n",
    "    image = Image.open(image_path).convert(\"RGB\")  # Open image and ensure RGB format\n",
    "    image = transform(image).unsqueeze(0).to(device)  # Apply transformations and add batch dimension\n",
    "    \n",
    "    model.eval()  # Set model to evaluation mode\n",
    "    with torch.no_grad():\n",
    "        output = model(image)\n",
    "    \n",
    "    prediction = (output.squeeze() > 0.5).float()  # Apply threshold to predict class (0 or 1)\n",
    "    class_label = \"Non Paediatric\" if prediction.item() == 1 else \"Paediatric\"\n",
    "    return class_label\n",
    "\n",
    "# Test the prediction on a new image\n",
    "image_path = \"/home/ai-user/Abhijay/Class_dataset/pediatric/2023_11_26_9D49D672_7DB7A7E5_4BBA0F4B.jpeg\"\n",
    "predicted_class = predict_image(image_path)\n",
    "# Open and display the image inline\n",
    "image = Image.open(image_path)\n",
    "plt.imshow(image)\n",
    "plt.axis('off')  # Hide axes\n",
    "plt.show()\n",
    "print(f\"Predicted class for the image: {predicted_class}\")\n"
   ]
  },
  {
   "cell_type": "code",
   "execution_count": 18,
   "metadata": {},
   "outputs": [
    {
     "name": "stderr",
     "output_type": "stream",
     "text": [
      "/home/ai-user/Abhijay/abhijay/lib/python3.12/site-packages/torch/utils/data/dataloader.py:617: UserWarning: This DataLoader will create 24 worker processes in total. Our suggested max number of worker in current system is 12, which is smaller than what this DataLoader is going to create. Please be aware that excessive worker creation might get DataLoader running slow or even freeze, lower the worker number to avoid potential slowness/freeze if necessary.\n",
      "  warnings.warn(\n"
     ]
    },
    {
     "name": "stdout",
     "output_type": "stream",
     "text": [
      "Accuracy: 98.39%\n",
      "Precision: 0.9872\n",
      "Recall: 0.9889\n",
      "F1 Score: 0.9880\n",
      "\n",
      "Classification Report:\n",
      "              precision    recall  f1-score   support\n",
      "\n",
      "         0.0       0.98      0.97      0.98      1940\n",
      "         1.0       0.99      0.99      0.99      3966\n",
      "\n",
      "    accuracy                           0.98      5906\n",
      "   macro avg       0.98      0.98      0.98      5906\n",
      "weighted avg       0.98      0.98      0.98      5906\n",
      "\n"
     ]
    }
   ],
   "source": [
    "# Initialize variables for evaluation\n",
    "all_preds = []\n",
    "all_labels = []\n",
    "\n",
    "# Evaluation loop\n",
    "with torch.no_grad():  # No need for gradient computation during evaluation\n",
    "    for images, labels in val_dataloader:  # Use your test dataloader here\n",
    "        images, labels = images.to(device), labels.to(device, dtype=torch.float32)\n",
    "        outputs = model(images)\n",
    "        preds = (outputs.squeeze() > 0.5).float()  # Threshold at 0.5 for binary classification\n",
    "        all_preds.extend(preds.cpu().numpy())\n",
    "        all_labels.extend(labels.cpu().numpy())\n",
    "\n",
    "# Calculate metrics\n",
    "accuracy = accuracy_score(all_labels, all_preds)\n",
    "precision = precision_score(all_labels, all_preds)\n",
    "recall = recall_score(all_labels, all_preds)\n",
    "f1 = f1_score(all_labels, all_preds)\n",
    "report = classification_report(all_labels, all_preds)\n",
    "\n",
    "# Print metrics\n",
    "print(f\"Accuracy: {accuracy * 100:.2f}%\")\n",
    "print(f\"Precision: {precision:.4f}\")\n",
    "print(f\"Recall: {recall:.4f}\")\n",
    "print(f\"F1 Score: {f1:.4f}\")\n",
    "print(\"\\nClassification Report:\")\n",
    "print(report)"
   ]
  },
  {
   "cell_type": "code",
   "execution_count": null,
   "metadata": {},
   "outputs": [],
   "source": []
  }
 ],
 "metadata": {
  "kernelspec": {
   "display_name": "Abhijay Venv",
   "language": "python",
   "name": "abhijay"
  },
  "language_info": {
   "codemirror_mode": {
    "name": "ipython",
    "version": 3
   },
   "file_extension": ".py",
   "mimetype": "text/x-python",
   "name": "python",
   "nbconvert_exporter": "python",
   "pygments_lexer": "ipython3",
   "version": "3.12.3"
  }
 },
 "nbformat": 4,
 "nbformat_minor": 2
}
